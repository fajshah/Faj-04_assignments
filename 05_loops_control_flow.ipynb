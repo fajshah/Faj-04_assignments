{
  "nbformat": 4,
  "nbformat_minor": 0,
  "metadata": {
    "colab": {
      "provenance": [],
      "authorship_tag": "ABX9TyMDj33CkgivxwCX+bskQVFg",
      "include_colab_link": true
    },
    "kernelspec": {
      "name": "python3",
      "display_name": "Python 3"
    },
    "language_info": {
      "name": "python"
    }
  },
  "cells": [
    {
      "cell_type": "markdown",
      "metadata": {
        "id": "view-in-github",
        "colab_type": "text"
      },
      "source": [
        "<a href=\"https://colab.research.google.com/github/fajshah/Faj-04_assignments/blob/main/05_loops_control_flow.ipynb\" target=\"_parent\"><img src=\"https://colab.research.google.com/assets/colab-badge.svg\" alt=\"Open In Colab\"/></a>"
      ]
    },
    {
      "cell_type": "markdown",
      "source": [
        "***00_guess_my_number.md***"
      ],
      "metadata": {
        "id": "G1bt2grXLTTe"
      }
    },
    {
      "cell_type": "code",
      "source": [
        "import random\n",
        "\n",
        "def main():\n",
        "    # Generate the secret number at random!\n",
        "    secret_number = random.randint(1, 20)\n",
        "\n",
        "    print(\"I am thinking of a number between 1 and 20...\")\n",
        "\n",
        "    # Get user's guess\n",
        "    guess = int(input(\"Enter a guess: \"))\n",
        "    # True if guess is not equal to secret number\n",
        "    while guess != secret_number:\n",
        "        if guess < secret_number:  # If-statement is True if guess is less than secret number\n",
        "            print(\"Your guess is too low\")\n",
        "        else:\n",
        "            print(\"Your guess is too high\")\n",
        "\n",
        "        print() # Print an empty line to tidy up the console for new guesses\n",
        "        guess = int(input(\"Enter a new guess: \"))  # Get a new guess from the user\n",
        "\n",
        "    print(\"Congrats! The number was: \" + str(secret_number))\n",
        "\n",
        "if __name__ == '__main__':\n",
        "    main()"
      ],
      "metadata": {
        "colab": {
          "base_uri": "https://localhost:8080/"
        },
        "id": "L9iqtocSLgyN",
        "outputId": "5252f0a4-3daa-43ad-91e9-4965be3ef6fd"
      },
      "execution_count": 2,
      "outputs": [
        {
          "output_type": "stream",
          "name": "stdout",
          "text": [
            "I am thinking of a number between 1 and 20...\n",
            "Enter a guess: 10\n",
            "Your guess is too low\n",
            "\n",
            "Enter a new guess: 15\n",
            "Your guess is too low\n",
            "\n",
            "Enter a new guess: 18\n",
            "Your guess is too low\n",
            "\n",
            "Enter a new guess: 19\n",
            "Congrats! The number was: 19\n"
          ]
        }
      ]
    },
    {
      "cell_type": "markdown",
      "source": [
        "***01_fibonacci.md***"
      ],
      "metadata": {
        "id": "nIOux_ENL9hM"
      }
    },
    {
      "cell_type": "code",
      "execution_count": 3,
      "metadata": {
        "colab": {
          "base_uri": "https://localhost:8080/"
        },
        "id": "c0oCKQe6LFzP",
        "outputId": "fe1451f0-c84a-4fb7-86fb-a4a0369fa6f8"
      },
      "outputs": [
        {
          "output_type": "stream",
          "name": "stdout",
          "text": [
            "0\n",
            "1\n",
            "1\n",
            "2\n",
            "3\n",
            "5\n",
            "8\n",
            "13\n",
            "21\n",
            "34\n",
            "55\n",
            "89\n",
            "144\n",
            "233\n",
            "377\n",
            "610\n",
            "987\n",
            "1597\n",
            "2584\n",
            "4181\n",
            "6765\n"
          ]
        }
      ],
      "source": [
        "MAX_TERM_VALUE : int = 10000\n",
        "\n",
        "def main():\n",
        "    curr_term = 0  # The 0th Fibonacci Number\n",
        "    next_term = 1  # The 1st Fibonacci Number\n",
        "    while curr_term <= MAX_TERM_VALUE:\n",
        "        print(curr_term)\n",
        "        term_after_next = curr_term + next_term\n",
        "        curr_term = next_term\n",
        "        next_term = term_after_next\n",
        "\n",
        "\n",
        "# There is no need to edit code beyond this point\n",
        "\n",
        "if __name__ == '__main__':\n",
        "    main()"
      ]
    },
    {
      "cell_type": "markdown",
      "source": [
        "***02_print_events.md***"
      ],
      "metadata": {
        "id": "q7TkcTuhMmIj"
      }
    },
    {
      "cell_type": "code",
      "source": [
        "def main():\n",
        "    # This for-loop start at 0 and counts up to 19 (for a total of 20 numbers)\n",
        "    for i in range(20):\n",
        "        print(i * 2)  # Use the 'i' value inside the for-loop\n",
        "\n",
        "# Call the main function when \"run\", no need to edit anything below!\n",
        "if __name__ == \"__main__\":\n",
        "    main()"
      ],
      "metadata": {
        "colab": {
          "base_uri": "https://localhost:8080/"
        },
        "id": "_xs6zbRDMrAb",
        "outputId": "fddaa4d4-6cab-4713-ec66-8ed0a06e3927"
      },
      "execution_count": 4,
      "outputs": [
        {
          "output_type": "stream",
          "name": "stdout",
          "text": [
            "0\n",
            "2\n",
            "4\n",
            "6\n",
            "8\n",
            "10\n",
            "12\n",
            "14\n",
            "16\n",
            "18\n",
            "20\n",
            "22\n",
            "24\n",
            "26\n",
            "28\n",
            "30\n",
            "32\n",
            "34\n",
            "36\n",
            "38\n"
          ]
        }
      ]
    },
    {
      "cell_type": "markdown",
      "source": [
        "***03_wholesome_machine.md***"
      ],
      "metadata": {
        "id": "014dqZ8tM4Mx"
      }
    },
    {
      "cell_type": "code",
      "source": [
        "affirmation = \"I am capable of doing anything I put my mind to.\"\n",
        "\n",
        "print(f\"Please type the following affirmation: {affirmation}\")\n",
        "\n",
        "while True:\n",
        "    user_input = input()\n",
        "    if user_input == affirmation:\n",
        "        print(\"That's right! :)\")\n",
        "        break\n",
        "    else:\n",
        "        print(\"Hmmm That was not the affirmation. Please type the following affirmation:\")\n"
      ],
      "metadata": {
        "colab": {
          "base_uri": "https://localhost:8080/"
        },
        "id": "zKZ0jmiEPSmA",
        "outputId": "1855693a-6180-4ebf-f3a7-c298b44952ab"
      },
      "execution_count": 7,
      "outputs": [
        {
          "output_type": "stream",
          "name": "stdout",
          "text": [
            "Please type the following affirmation: I am capable of doing anything I put my mind to.\n",
            "affirmation\n",
            "Hmmm That was not the affirmation. Please type the following affirmation:\n",
            "affirmation\n",
            "Hmmm That was not the affirmation. Please type the following affirmation:\n",
            "affirmation\n",
            "Hmmm That was not the affirmation. Please type the following affirmation:\n",
            "I am capable of doing anything I put my mind to.\n",
            "That's right! :)\n"
          ]
        }
      ]
    },
    {
      "cell_type": "markdown",
      "source": [
        "***04_liftoff.md***"
      ],
      "metadata": {
        "id": "1V3blf9QQKnH"
      }
    },
    {
      "cell_type": "code",
      "source": [
        "def main():\n",
        "    for i in range(10, 0, -1):  # Countdown from 10 to 1\n",
        "        print(i, end=\" \")\n",
        "    print(\"Liftoff!\")\n",
        "\n",
        "if __name__ == '__main__':\n",
        "    main()\n"
      ],
      "metadata": {
        "colab": {
          "base_uri": "https://localhost:8080/"
        },
        "id": "GiQRVve5QWFe",
        "outputId": "72ed355b-d8f9-4cf6-a9cc-eb2cd3932ce4"
      },
      "execution_count": 8,
      "outputs": [
        {
          "output_type": "stream",
          "name": "stdout",
          "text": [
            "10 9 8 7 6 5 4 3 2 1 Liftoff!\n"
          ]
        }
      ]
    },
    {
      "cell_type": "markdown",
      "source": [
        "***05_double_it.md***"
      ],
      "metadata": {
        "id": "HUFdicczREzm"
      }
    },
    {
      "cell_type": "code",
      "source": [
        "def main():\n",
        "    curr_value = int(input(\"Enter a number: \"))\n",
        "    while curr_value < 100:\n",
        "        curr_value *= 2\n",
        "        print(curr_value, end=\" \")\n",
        "\n",
        "\n",
        "if __name__ == '__main__':\n",
        "    main()\n"
      ],
      "metadata": {
        "colab": {
          "base_uri": "https://localhost:8080/"
        },
        "id": "382ES2sERYPX",
        "outputId": "0c3f3ac0-5802-4200-eae2-69142476101c"
      },
      "execution_count": 9,
      "outputs": [
        {
          "output_type": "stream",
          "name": "stdout",
          "text": [
            "Enter a number: 4\n",
            "8 16 32 64 128 "
          ]
        }
      ]
    }
  ]
}