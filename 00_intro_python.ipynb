{
  "nbformat": 4,
  "nbformat_minor": 0,
  "metadata": {
    "colab": {
      "provenance": [],
      "authorship_tag": "ABX9TyM9VC7xUhOqgPtdNhILqKUv",
      "include_colab_link": true
    },
    "kernelspec": {
      "name": "python3",
      "display_name": "Python 3"
    },
    "language_info": {
      "name": "python"
    }
  },
  "cells": [
    {
      "cell_type": "markdown",
      "metadata": {
        "id": "view-in-github",
        "colab_type": "text"
      },
      "source": [
        "<a href=\"https://colab.research.google.com/github/fajshah/Faj-04_assignments/blob/main/00_intro_python.ipynb\" target=\"_parent\"><img src=\"https://colab.research.google.com/assets/colab-badge.svg\" alt=\"Open In Colab\"/></a>"
      ]
    },
    {
      "cell_type": "markdown",
      "source": [
        "***01_add_two_numbers.md***"
      ],
      "metadata": {
        "id": "CTgKsakt8M-J"
      }
    },
    {
      "cell_type": "code",
      "source": [
        "def main():\n",
        "    print(\"This program adds two numbers.\")\n",
        "    num1 : str = input(\"Enter first number: \")\n",
        "    num1 : int = int(num1)\n",
        "    num2  : str = input(\"Enter second number: \")\n",
        "    num2 : int = int(num2)\n",
        "    total : int = num1 + num2\n",
        "    print(\"The total is \" + str(total) + \".\")\n",
        "\n",
        "\n",
        "# This provided line is required at the end of\n",
        "# Python file to call the main() function.\n",
        "if __name__ == '__main__':\n",
        "      main()\n"
      ],
      "metadata": {
        "colab": {
          "base_uri": "https://localhost:8080/"
        },
        "id": "432uwKkJ8X_I",
        "outputId": "9a4ee88e-7832-4308-9684-3d52836a713f"
      },
      "execution_count": 2,
      "outputs": [
        {
          "output_type": "stream",
          "name": "stdout",
          "text": [
            "This program adds two numbers.\n",
            "Enter first number: 285\n",
            "Enter second number: 87\n",
            "The total is 372.\n"
          ]
        }
      ]
    },
    {
      "cell_type": "code",
      "execution_count": null,
      "metadata": {
        "id": "4dEz53JN7uWO"
      },
      "outputs": [],
      "source": []
    },
    {
      "cell_type": "markdown",
      "source": [
        "***02_agreement_bot.md***"
      ],
      "metadata": {
        "id": "qTV5r6KB9aNp"
      }
    },
    {
      "cell_type": "code",
      "source": [
        "def main():\n",
        "    favorite_animal = \"cow\"\n",
        "    print(f\"My favorite animal is also {favorite_animal}!\")\n",
        "\n",
        "# This provided line is required at the end of\n",
        "# Python file to call the main() function.\n",
        "if __name__ == '__main__':\n",
        "    main()\n"
      ],
      "metadata": {
        "colab": {
          "base_uri": "https://localhost:8080/"
        },
        "id": "gia7N5I09qQP",
        "outputId": "07e04394-b7a9-4849-ec4b-75c32075a6ca"
      },
      "execution_count": 6,
      "outputs": [
        {
          "output_type": "stream",
          "name": "stdout",
          "text": [
            "My favorite animal is also cow!\n"
          ]
        }
      ]
    },
    {
      "cell_type": "markdown",
      "source": [
        "***03_fahrenheit_to_celsius.md***"
      ],
      "metadata": {
        "id": "gUwTrjB6Auh9"
      }
    },
    {
      "cell_type": "code",
      "source": [
        "def main():\n",
        "    try:\n",
        "        degrees_fahrenheit = float(input(\"Enter temperature in Fahrenheit: \").strip().replace(\"F\", \"\"))\n",
        "        degrees_celsius = (degrees_fahrenheit - 32) * 5.0 / 9.0\n",
        "        print(f\"Temperature: {degrees_fahrenheit}F = {degrees_celsius}C\")\n",
        "    except ValueError:\n",
        "        print(\"Invalid input! Please enter a valid number for temperature.\")\n",
        "\n",
        "# This provided line is required at the end of\n",
        "# Python file to call the main() function.\n",
        "if __name__ == '__main__':\n",
        "    main()\n"
      ],
      "metadata": {
        "colab": {
          "base_uri": "https://localhost:8080/"
        },
        "id": "xV6SYSpsAzFz",
        "outputId": "81f562a2-1dcb-47db-d080-b1f0307c1e74"
      },
      "execution_count": 9,
      "outputs": [
        {
          "output_type": "stream",
          "name": "stdout",
          "text": [
            "Enter temperature in Fahrenheit: 76.0F\n",
            "Temperature: 76.0F = 24.444444444444443C\n"
          ]
        }
      ]
    },
    {
      "cell_type": "markdown",
      "source": [],
      "metadata": {
        "id": "FHc8kZ9E8DMJ"
      }
    },
    {
      "cell_type": "markdown",
      "source": [
        "***04_how_old_are_they.md***"
      ],
      "metadata": {
        "id": "ecvi4c79DOvj"
      }
    },
    {
      "cell_type": "code",
      "source": [
        "def main():\n",
        "    anton : int = 21  # Anton's age is given as 21 years old\n",
        "    beth : int = 6 + anton  # Beth is 6 years older than Anton, so add 6 to Anton's age to get Beth's\n",
        "    chen : int = 20 + beth  # Chen is 20 years older than Beth, so add 20 to Beth's age to get Chen's\n",
        "    drew  : int= chen + anton  # Drew is as old as Chen's age plus Anton's age, so add them together\n",
        "    ethan : int = chen  # Ethan is the same age as Chen, so set Ethan's age equal to Chen's\n",
        "\n",
        "   # Print out all of the ages!\n",
        "    print(\"Anton is \" + str(anton))\n",
        "    print(\"Beth is \" + str(beth))\n",
        "    print(\"Chen is \" + str(chen))\n",
        "    print(\"Drew is \" + str(drew))\n",
        "    print(\"Ethan is \" + str(ethan))\n",
        "\n",
        "\n",
        "# There is no need to edit code beyond this point\n",
        "\n",
        "if __name__ == '__main__':\n",
        "    main()"
      ],
      "metadata": {
        "colab": {
          "base_uri": "https://localhost:8080/"
        },
        "id": "RH23EVGODeC0",
        "outputId": "6bc050c6-d595-4a62-c7ec-3e17e2b6dfb8"
      },
      "execution_count": 11,
      "outputs": [
        {
          "output_type": "stream",
          "name": "stdout",
          "text": [
            "Anton is 21\n",
            "Beth is 27\n",
            "Chen is 47\n",
            "Drew is 68\n",
            "Ethan is 47\n"
          ]
        }
      ]
    },
    {
      "cell_type": "markdown",
      "source": [
        "***05_triangle_perimeter.md***"
      ],
      "metadata": {
        "id": "7bK5-8FDD6Q2"
      }
    },
    {
      "cell_type": "code",
      "source": [
        "def main():\n",
        "    # Get the 3 side lengths of the triangle\n",
        "    side1: float = float(input(\"What is the length of side 1? \"))\n",
        "    side2: float = float(input(\"What is the length of side 2? \"))\n",
        "    side3: float = float(input(\"What is the length of side 3? \"))\n",
        "\n",
        "    # Print out the perimeter (sum of the sides) of the triangle, make sure to cast it to a str when concatenating!\n",
        "    print(\"The perimeter of the triangle is \" + str(side1 + side2 + side3))\n",
        "\n",
        "\n",
        "# There is no need to edit code beyond this point\n",
        "\n",
        "if __name__ == '__main__':\n",
        "    main()"
      ],
      "metadata": {
        "colab": {
          "base_uri": "https://localhost:8080/"
        },
        "id": "L3lBjcfnECWb",
        "outputId": "cd00984f-d565-4e24-8543-d7c728b4bef7"
      },
      "execution_count": 13,
      "outputs": [
        {
          "output_type": "stream",
          "name": "stdout",
          "text": [
            "What is the length of side 1? 3\n",
            "What is the length of side 2? 4\n",
            "What is the length of side 3? 5.5\n",
            "The perimeter of the triangle is 12.5\n"
          ]
        }
      ]
    },
    {
      "cell_type": "markdown",
      "source": [
        "***06_square_number.md***"
      ],
      "metadata": {
        "id": "5P7mNV5YEY_p"
      }
    },
    {
      "cell_type": "code",
      "source": [
        "\n",
        "def main():\n",
        "    num: float = float(input(\"Type a number to see its square: \")) # Make sure to cast the input to a float so we can do math with it!\n",
        "    print(str(num) + \" squared is \" + str(num ** 2)) # num * num is equivalent to num ** 2. The ** operator raises something to a power!\n",
        "\n",
        "\n",
        "# There is no need to edit code beyond this point\n",
        "\n",
        "if __name__ == '__main__':\n",
        "    main()\n"
      ],
      "metadata": {
        "colab": {
          "base_uri": "https://localhost:8080/"
        },
        "id": "kKfo-BDuE4Wx",
        "outputId": "559c184b-e449-4256-cd19-26821aa33c0a"
      },
      "execution_count": 14,
      "outputs": [
        {
          "output_type": "stream",
          "name": "stdout",
          "text": [
            "Type a number to see its square: 4\n",
            "4.0 squared is 16.0\n"
          ]
        }
      ]
    }
  ]
}